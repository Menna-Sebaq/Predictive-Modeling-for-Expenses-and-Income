{
 "cells": [
  {
   "cell_type": "markdown",
   "id": "271c70d2",
   "metadata": {},
   "source": []
  },
  {
   "cell_type": "code",
   "execution_count": null,
   "id": "fa24a5ea",
   "metadata": {},
   "outputs": [],
   "source": [
    "pip install moviepy"
   ]
  },
  {
   "cell_type": "code",
   "execution_count": 3,
   "id": "60ab6347",
   "metadata": {},
   "outputs": [],
   "source": [
    "# Step 1: Import necessary libraries\n",
    "from moviepy.editor import VideoFileClip\n",
    "import os\n"
   ]
  },
  {
   "cell_type": "code",
   "execution_count": 5,
   "id": "1a5afde9",
   "metadata": {},
   "outputs": [
    {
     "ename": "SyntaxError",
     "evalue": "(unicode error) 'unicodeescape' codec can't decode bytes in position 2-3: truncated \\UXXXXXXXX escape (139662343.py, line 28)",
     "output_type": "error",
     "traceback": [
      "\u001b[1;36m  Cell \u001b[1;32mIn[5], line 28\u001b[1;36m\u001b[0m\n\u001b[1;33m    video_folder = 'C:\\Users\\Hazem Hamdy\\Desktop\\word pronun video'  # Specify your video files directory\u001b[0m\n\u001b[1;37m                   ^\u001b[0m\n\u001b[1;31mSyntaxError\u001b[0m\u001b[1;31m:\u001b[0m (unicode error) 'unicodeescape' codec can't decode bytes in position 2-3: truncated \\UXXXXXXXX escape\n"
     ]
    }
   ],
   "source": [
    "\n",
    "# Step 2: Define a function to convert a single video file to an audio file\n",
    "def convert_video_to_audio(video_file_path, audio_file_path):\n",
    "    # Load the video file\n",
    "    video = VideoFileClip(video_file_path)\n",
    "    # Extract the audio from the video\n",
    "    audio = video.audio\n",
    "    # Save the extracted audio to a file\n",
    "    audio.write_audiofile(audio_file_path)\n",
    "\n",
    "# Step 3: Process multiple video files\n",
    "def batch_convert_videos_to_audio(video_folder, audio_folder):\n",
    "    # Ensure the audio folder exists\n",
    "    os.makedirs(audio_folder, exist_ok=True)\n",
    "    \n",
    "    # Loop through all files in the video folder\n",
    "    for video_file in os.listdir(video_folder):\n",
    "        # Only process video files (e.g., .mp4, .avi, .mov, .mkv)\n",
    "        if video_file.endswith(('.mp4', '.avi', '.mov', '.mkv')):\n",
    "            video_file_path = os.path.join(video_folder, video_file)\n",
    "            # Create a corresponding audio file path\n",
    "            audio_file_name = os.path.splitext(video_file)[0] + '.mp3'\n",
    "            audio_file_path = os.path.join(audio_folder, audio_file_name)\n",
    "            # Convert the video to audio\n",
    "            convert_video_to_audio(video_file_path, audio_file_path)\n",
    "            print(f'Converted {video_file} to {audio_file_name}')\n",
    "\n",
    "# Example usage\n",
    "video_folder = 'C:\\Users\\Hazem Hamdy\\Desktop\\word pronun video'  # Specify your video files directory\n",
    "audio_folder = 'C:\\Users\\Hazem Hamdy\\Desktop\\New folder'  # Specify your audio files directory\n",
    "batch_convert_videos_to_audio(video_folder, audio_folder)\n"
   ]
  },
  {
   "cell_type": "code",
   "execution_count": null,
   "id": "90955332",
   "metadata": {},
   "outputs": [],
   "source": [
    "import pandas as pd\n",
    "import numpy as np\n",
    "import seaborn as sns\n",
    "import matplotlib.pyplot as plt"
   ]
  },
  {
   "cell_type": "code",
   "execution_count": null,
   "id": "cb901362",
   "metadata": {},
   "outputs": [],
   "source": [
    "data = pd.read_csv('C:\\\\Users\\\\lenovo\\\\Desktop\\\\Bla\\\\Trial.csv' , na_values=['?', 'UNDEFINED'])"
   ]
  },
  {
   "cell_type": "code",
   "execution_count": null,
   "id": "663f7775",
   "metadata": {},
   "outputs": [],
   "source": [
    "data"
   ]
  },
  {
   "cell_type": "code",
   "execution_count": null,
   "id": "4500a2af",
   "metadata": {},
   "outputs": [],
   "source": [
    "data.dtypes"
   ]
  },
  {
   "cell_type": "code",
   "execution_count": null,
   "id": "59ca7700",
   "metadata": {
    "scrolled": true
   },
   "outputs": [],
   "source": [
    "data.isnull()"
   ]
  },
  {
   "cell_type": "code",
   "execution_count": null,
   "id": "81560310",
   "metadata": {},
   "outputs": [],
   "source": [
    "mask= data.isnull()\n",
    "mask"
   ]
  },
  {
   "cell_type": "code",
   "execution_count": null,
   "id": "67b78e12",
   "metadata": {},
   "outputs": [],
   "source": [
    "mask = data.isnull().any(axis=1)\n",
    "mask"
   ]
  },
  {
   "cell_type": "code",
   "execution_count": null,
   "id": "5658ec55",
   "metadata": {},
   "outputs": [],
   "source": [
    "mask = data.isnull().any(axis=1)\n",
    "data[mask]"
   ]
  },
  {
   "cell_type": "code",
   "execution_count": null,
   "id": "6a95ba84",
   "metadata": {},
   "outputs": [],
   "source": [
    "mask = data.isnull().any(axis=1)\n",
    "data[~mask]"
   ]
  },
  {
   "cell_type": "code",
   "execution_count": null,
   "id": "4073b517",
   "metadata": {},
   "outputs": [],
   "source": [
    "data.isnull().sum().sum()"
   ]
  },
  {
   "cell_type": "code",
   "execution_count": null,
   "id": "3ab69c4b",
   "metadata": {},
   "outputs": [],
   "source": [
    "data\n",
    "mask = data.isnull().any(axis=1)\n",
    "no_of_rows_with_nan = mask.sum()\n",
    "total_no_of_rows = len(data)\n",
    "\n",
    "no_of_rows_with_nan / total_no_of_rows"
   ]
  },
  {
   "cell_type": "code",
   "execution_count": null,
   "id": "edec9608",
   "metadata": {},
   "outputs": [],
   "source": [
    "data.isnull().sum() / len(data)"
   ]
  },
  {
   "cell_type": "code",
   "execution_count": null,
   "id": "9ada523a",
   "metadata": {},
   "outputs": [],
   "source": [
    "data.isnull().sum()"
   ]
  },
  {
   "cell_type": "code",
   "execution_count": null,
   "id": "1f4a48c9",
   "metadata": {},
   "outputs": [],
   "source": [
    "data2 = data.dropna()\n",
    "data2"
   ]
  },
  {
   "cell_type": "code",
   "execution_count": null,
   "id": "f79af663",
   "metadata": {},
   "outputs": [],
   "source": [
    "data2.describe()"
   ]
  },
  {
   "cell_type": "code",
   "execution_count": null,
   "id": "027c470d",
   "metadata": {},
   "outputs": [],
   "source": [
    "# Create a boxplot and customize its aesthetics\n",
    "boxplot = plt.boxplot(data2['Age'], patch_artist=True, whiskerprops={'linewidth': 1.5}, capprops={'linewidth': 1.5}, medianprops={'linewidth': 2}, flierprops={'marker': 'o', 'markerfacecolor': 'red', 'markersize': 6})\n",
    "\n",
    "# Set the colors for the boxplot elements\n",
    "colors = ['lightblue']\n",
    "for patch in boxplot['boxes']:\n",
    "    patch.set_facecolor(colors[0])\n",
    "\n",
    "# Adjust the appearance of the outliers\n",
    "for flier in boxplot['fliers']:\n",
    "    flier.set(marker='o', color='red', alpha=1)\n",
    "\n",
    "# Add a legend\n",
    "plt.legend([boxplot['fliers'][0]], ['Outliers'])\n",
    "\n",
    "# Show the plot\n",
    "plt.show()"
   ]
  },
  {
   "cell_type": "code",
   "execution_count": null,
   "id": "e6b0705a",
   "metadata": {},
   "outputs": [],
   "source": [
    "plt.boxplot(data2['Age'], sym='')\n",
    "plt.show()\n",
    "\n",
    "Q1 = data2['Age'].quantile(0.25)\n",
    "Q3 = data2['Age'].quantile(0.75)\n",
    "IQR = Q3 - Q1\n",
    "\n",
    "lower_bound = Q1 - 1.5 * IQR\n",
    "upper_bound = Q3 + 1.5 * IQR\n",
    "\n",
    "# Filter the DataFrame to exclude outliers\n",
    "data_filtered = data2[(data2['Age'] >= lower_bound) & (data2['Age'] <= upper_bound)]\n",
    "\n",
    "# Display the resulting DataFrame without outliers\n",
    "print(data_filtered)"
   ]
  },
  {
   "cell_type": "code",
   "execution_count": null,
   "id": "6b1df948",
   "metadata": {},
   "outputs": [],
   "source": [
    "# Create a boxplot and customize its aesthetics\n",
    "boxplot = plt.boxplot(data_filtered['EmployeeID'], patch_artist=True, whiskerprops={'linewidth': 1.5}, capprops={'linewidth': 1.5}, medianprops={'linewidth': 2}, flierprops={'marker': 'o', 'markerfacecolor': 'red', 'markersize': 6})\n",
    "\n",
    "# Set the colors for the boxplot elements\n",
    "colors = ['lightblue']\n",
    "for patch in boxplot['boxes']:\n",
    "    patch.set_facecolor(colors[0])\n",
    "\n",
    "# Adjust the appearance of the outliers\n",
    "for flier in boxplot['fliers']:\n",
    "    flier.set(marker='o', color='red', alpha=1)\n",
    "\n",
    "# Add a legend\n",
    "plt.legend([boxplot['fliers'][0]], ['Outliers'])\n",
    "\n",
    "# Show the plot\n",
    "plt.show()"
   ]
  },
  {
   "cell_type": "code",
   "execution_count": null,
   "id": "410ae815",
   "metadata": {},
   "outputs": [],
   "source": [
    "# Create a boxplot and customize its aesthetics\n",
    "boxplot = plt.boxplot(data_filtered['YearsOfExperience'], patch_artist=True, whiskerprops={'linewidth': 1.5}, capprops={'linewidth': 1.5}, medianprops={'linewidth': 2}, flierprops={'marker': 'o', 'markerfacecolor': 'red', 'markersize': 6})\n",
    "\n",
    "# Set the colors for the boxplot elements\n",
    "colors = ['lightblue']\n",
    "for patch in boxplot['boxes']:\n",
    "    patch.set_facecolor(colors[0])\n",
    "\n",
    "# Adjust the appearance of the outliers\n",
    "for flier in boxplot['fliers']:\n",
    "    flier.set(marker='o', color='red', alpha=1)\n",
    "\n",
    "# Add a legend\n",
    "plt.legend([boxplot['fliers'][0]], ['Outliers'])\n",
    "\n",
    "# Show the plot\n",
    "plt.show()"
   ]
  },
  {
   "cell_type": "code",
   "execution_count": null,
   "id": "5bee1425",
   "metadata": {},
   "outputs": [],
   "source": [
    "plt.boxplot(data_filtered['YearsOfExperience'], sym='')\n",
    "plt.show()\n",
    "\n",
    "Q1 = data_filtered['YearsOfExperience'].quantile(0.25)\n",
    "Q3 = data_filtered['YearsOfExperience'].quantile(0.75)\n",
    "IQR = Q3 - Q1\n",
    "\n",
    "lower_bound = Q1 - 1.5 * IQR\n",
    "upper_bound = Q3 + 1.5 * IQR\n",
    "\n",
    "# Filter the DataFrame to exclude outliers\n",
    "data_filtered = data_filtered[(data_filtered['YearsOfExperience'] >= lower_bound) & (data_filtered['YearsOfExperience'] <= upper_bound)]\n",
    "\n",
    "# Display the resulting DataFrame without outliers\n",
    "print(data_filtered)"
   ]
  },
  {
   "cell_type": "code",
   "execution_count": null,
   "id": "e756d250",
   "metadata": {},
   "outputs": [],
   "source": [
    "# Create a boxplot and customize its aesthetics\n",
    "boxplot = plt.boxplot(data_filtered['MonthlyIncome'], patch_artist=True, whiskerprops={'linewidth': 1.5}, capprops={'linewidth': 1.5}, medianprops={'linewidth': 2}, flierprops={'marker': 'o', 'markerfacecolor': 'red', 'markersize': 6})\n",
    "\n",
    "# Set the colors for the boxplot elements\n",
    "colors = ['lightblue']\n",
    "for patch in boxplot['boxes']:\n",
    "    patch.set_facecolor(colors[0])\n",
    "\n",
    "# Adjust the appearance of the outliers\n",
    "for flier in boxplot['fliers']:\n",
    "    flier.set(marker='o', color='red', alpha=1)\n",
    "\n",
    "# Add a legend\n",
    "plt.legend([boxplot['fliers'][0]], ['Outliers'])\n",
    "\n",
    "# Show the plot\n",
    "plt.show()"
   ]
  },
  {
   "cell_type": "code",
   "execution_count": null,
   "id": "bf128c75",
   "metadata": {},
   "outputs": [],
   "source": [
    "plt.boxplot(data_filtered['MonthlyIncome'], sym='')\n",
    "plt.show()\n",
    "\n",
    "Q1 = data_filtered['MonthlyIncome'].quantile(0.25)\n",
    "Q3 = data_filtered['MonthlyIncome'].quantile(0.75)\n",
    "IQR = Q3 - Q1\n",
    "\n",
    "lower_bound = Q1 - 1.5 * IQR\n",
    "upper_bound = Q3 + 1.5 * IQR\n",
    "\n",
    "# Filter the DataFrame to exclude outliers\n",
    "data_filtered = data_filtered[(data_filtered['MonthlyIncome'] >= lower_bound) & (data_filtered['MonthlyIncome'] <= upper_bound)]\n",
    "\n",
    "# Display the resulting DataFrame without outliers\n",
    "print(data_filtered)"
   ]
  },
  {
   "cell_type": "code",
   "execution_count": null,
   "id": "8fe70d4f",
   "metadata": {},
   "outputs": [],
   "source": [
    "# Create a boxplot and customize its aesthetics\n",
    "boxplot = plt.boxplot(data_filtered['PayRaise'], patch_artist=True, whiskerprops={'linewidth': 1.5}, capprops={'linewidth': 1.5}, medianprops={'linewidth': 2}, flierprops={'marker': 'o', 'markerfacecolor': 'red', 'markersize': 6})\n",
    "\n",
    "# Set the colors for the boxplot elements\n",
    "colors = ['lightblue']\n",
    "for patch in boxplot['boxes']:\n",
    "    patch.set_facecolor(colors[0])\n",
    "\n",
    "# Adjust the appearance of the outliers\n",
    "for flier in boxplot['fliers']:\n",
    "    flier.set(marker='o', color='red', alpha=1)\n",
    "\n",
    "# Add a legend\n",
    "plt.legend([boxplot['fliers'][0]], ['Outliers'])\n",
    "\n",
    "# Show the plot\n",
    "plt.show()"
   ]
  },
  {
   "cell_type": "code",
   "execution_count": null,
   "id": "3d339ac7",
   "metadata": {},
   "outputs": [],
   "source": [
    "plt.boxplot(data_filtered['PayRaise'], sym='')\n",
    "plt.show()\n",
    "\n",
    "Q1 = data_filtered['PayRaise'].quantile(0.25)\n",
    "Q3 = data_filtered['PayRaise'].quantile(0.75)\n",
    "IQR = Q3 - Q1\n",
    "\n",
    "lower_bound = Q1 - 1.5 * IQR\n",
    "upper_bound = Q3 + 1.5 * IQR\n",
    "\n",
    "# Filter the DataFrame to exclude outliers\n",
    "data_filtered = data_filtered[(data_filtered['PayRaise'] >= lower_bound) & (data_filtered['PayRaise'] <= upper_bound)]\n",
    "\n",
    "# Display the resulting DataFrame without outliers\n",
    "print(data_filtered)"
   ]
  },
  {
   "cell_type": "code",
   "execution_count": null,
   "id": "806e844b",
   "metadata": {},
   "outputs": [],
   "source": [
    "data_filtered"
   ]
  },
  {
   "cell_type": "code",
   "execution_count": null,
   "id": "ecb27205",
   "metadata": {
    "scrolled": true
   },
   "outputs": [],
   "source": [
    "data_filtered.dtypes"
   ]
  },
  {
   "cell_type": "code",
   "execution_count": null,
   "id": "d4a09dfb",
   "metadata": {},
   "outputs": [],
   "source": [
    "plt.figure(figsize=(8,5))\n",
    "sns.regplot(x=data_filtered.YearsOfExperience, y=data_filtered.MonthlyIncome)"
   ]
  },
  {
   "cell_type": "code",
   "execution_count": null,
   "id": "77b8ec73",
   "metadata": {},
   "outputs": [],
   "source": [
    "data_encoded = pd.get_dummies(data_filtered, dtype=int)"
   ]
  },
  {
   "cell_type": "code",
   "execution_count": null,
   "id": "f4b048d0",
   "metadata": {
    "scrolled": true
   },
   "outputs": [],
   "source": [
    "data_encoded"
   ]
  },
  {
   "cell_type": "code",
   "execution_count": null,
   "id": "a84f4036",
   "metadata": {},
   "outputs": [],
   "source": [
    "X = data_encoded.iloc[:, 2:3].values\n",
    "y = data_encoded.iloc[:, 3:4].values\n",
    "\n",
    "print('x',X)\n",
    "\n",
    "print('y',y)"
   ]
  },
  {
   "cell_type": "code",
   "execution_count": null,
   "id": "9ea4f48c",
   "metadata": {},
   "outputs": [],
   "source": [
    "from sklearn.preprocessing import StandardScaler\n",
    "\n",
    "scaler = StandardScaler()\n",
    "X_scaled = scaler.fit_transform(X)\n",
    "y_scaled = scaler.fit_transform(y)"
   ]
  },
  {
   "cell_type": "code",
   "execution_count": null,
   "id": "e41a16ad",
   "metadata": {},
   "outputs": [],
   "source": [
    "from sklearn.model_selection import train_test_split\n",
    "X_train, X_test, y_train, y_test = train_test_split(X_scaled, y_scaled, test_size = 0.2, random_state = 1)\n",
    "print(X_train)\n",
    "print(X_test)\n",
    "print(y_train)\n",
    "print(y_test)"
   ]
  },
  {
   "cell_type": "code",
   "execution_count": null,
   "id": "153260fa",
   "metadata": {},
   "outputs": [],
   "source": [
    "from sklearn.linear_model import LinearRegression\n",
    "lg = LinearRegression()\n",
    "lg.fit(X_train, y_train)\n",
    "y_predict = lg.predict(X_test)"
   ]
  },
  {
   "cell_type": "code",
   "execution_count": null,
   "id": "33bacf47",
   "metadata": {
    "scrolled": false
   },
   "outputs": [],
   "source": [
    "plt.scatter(X_test, y_test, color='red', label='Actual')\n",
    "plt.plot(X_test, y_predict, color='blue', label='Predicted')\n",
    "plt.title(' Predicted vs Actual')\n",
    "plt.xlabel('YearsOfExperience')\n",
    "plt.ylabel('MonthlyIncome')\n",
    "plt.legend()\n",
    "plt.show()"
   ]
  },
  {
   "cell_type": "code",
   "execution_count": null,
   "id": "b32b679c",
   "metadata": {},
   "outputs": [],
   "source": [
    "from sklearn.metrics import mean_absolute_error, mean_squared_error, r2_score\n",
    "\n",
    "mae = mean_absolute_error(y_test, y_predict)\n",
    "mse = mean_squared_error(y_test, y_predict)\n",
    "r_squared = r2_score(y_test, y_predict)\n",
    "\n",
    "print(f\"Mean Absolute Error: {mae:.4f}\\n\")\n",
    "print(f\"Mean Squared Error: {mse:.4f}\\n\")\n",
    "print(f\"R-squared: {r_squared:.4f}\\n\")\n"
   ]
  },
  {
   "cell_type": "code",
   "execution_count": null,
   "id": "6157093d",
   "metadata": {},
   "outputs": [],
   "source": [
    "from sklearn.ensemble import GradientBoostingRegressor\n",
    "from sklearn.model_selection import cross_val_score\n",
    "import numpy as np\n",
    "\n",
    "# Reshape y_train to a 1D array \n",
    "y_train_reshaped = np.ravel(y_train)\n",
    "\n",
    "gb_model = GradientBoostingRegressor(n_estimators=100, learning_rate=0.1, random_state=42)\n",
    "cv_scores = cross_val_score(gb_model, X_train, y_train_reshaped, cv=5, scoring='r2')\n",
    "\n",
    "print(\"Cross-validation R-squared scores:\", cv_scores)\n",
    "print(f\"Mean R-squared: {cv_scores.mean():.4f}\")"
   ]
  },
  {
   "cell_type": "code",
   "execution_count": null,
   "id": "f4d48b7f",
   "metadata": {},
   "outputs": [],
   "source": []
  }
 ],
 "metadata": {
  "kernelspec": {
   "display_name": "Python 3 (ipykernel)",
   "language": "python",
   "name": "python3"
  },
  "language_info": {
   "codemirror_mode": {
    "name": "ipython",
    "version": 3
   },
   "file_extension": ".py",
   "mimetype": "text/x-python",
   "name": "python",
   "nbconvert_exporter": "python",
   "pygments_lexer": "ipython3",
   "version": "3.8.8"
  }
 },
 "nbformat": 4,
 "nbformat_minor": 5
}
